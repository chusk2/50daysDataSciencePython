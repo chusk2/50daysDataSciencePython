{
 "cells": [
  {
   "cell_type": "markdown",
   "id": "30975325-6e36-48d8-b466-d40ff1321841",
   "metadata": {},
   "source": [
    "# Import of libraries"
   ]
  },
  {
   "cell_type": "code",
   "execution_count": 5,
   "id": "b54ddc54-b347-45f3-a7ec-24a09a1c6094",
   "metadata": {},
   "outputs": [],
   "source": [
    "import numpy as np\n",
    "import pandas as pd\n",
    "import matplotlib.pyplot as plt\n",
    "import seaborn as sns"
   ]
  },
  {
   "cell_type": "markdown",
   "id": "681467db-9dd2-47ad-bc8b-00280b82f27f",
   "metadata": {},
   "source": [
    "## Day 2: Creating and Manipulating Arrays"
   ]
  },
  {
   "cell_type": "markdown",
   "id": "32a90cd3-f304-45be-875a-3524a630fa82",
   "metadata": {},
   "source": [
    "1. Write code to import NumPy into your script. Check the\n",
    "version of NumPy installed."
   ]
  },
  {
   "cell_type": "code",
   "execution_count": 1,
   "id": "7b919db0-9a60-41e3-9931-694c952b150d",
   "metadata": {},
   "outputs": [],
   "source": [
    "import numpy as np\n",
    "import matplotlib.pyplot as plt"
   ]
  },
  {
   "cell_type": "code",
   "execution_count": 35,
   "id": "e391eb42-e552-4b4e-b310-0f6d36504f66",
   "metadata": {},
   "outputs": [
    {
     "name": "stdout",
     "output_type": "stream",
     "text": [
      "1.26.0\n"
     ]
    }
   ],
   "source": [
    "print(np.__version__)"
   ]
  },
  {
   "attachments": {},
   "cell_type": "markdown",
   "id": "1e057b7f-c284-416d-a9cf-074afd01c601",
   "metadata": {},
   "source": [
    "Here is a list below:  \n",
    "list1 = [2, 3, 4, 6]  \n",
    "Create a one-dimensional array from the list above. Write another line of code to check the shape and size of your array.  \n",
    "Write a function that takes this array and returns a new array with all the values in the original array reversed."
   ]
  },
  {
   "cell_type": "code",
   "execution_count": 5,
   "id": "69e4b4cd-6665-4346-b36e-5fd741c8fcb2",
   "metadata": {},
   "outputs": [
    {
     "name": "stdout",
     "output_type": "stream",
     "text": [
      "The shape of the array is (4,) and has 4 elements.\n"
     ]
    }
   ],
   "source": [
    "list1 = [2, 3, 4, 6]\n",
    "b = np.array(list1)\n",
    "print(f'The shape of the array is {b.shape} and has {b.size} elements.')"
   ]
  },
  {
   "cell_type": "code",
   "execution_count": 7,
   "id": "0c02f0ec-c7fa-4a35-9d52-7a7fdb0dfef6",
   "metadata": {},
   "outputs": [
    {
     "data": {
      "text/plain": [
       "array([6, 4, 3, 2])"
      ]
     },
     "execution_count": 7,
     "metadata": {},
     "output_type": "execute_result"
    }
   ],
   "source": [
    "def reverse_array(array):\n",
    "    return array[::-1]  # reverse an array using negative step indexing\n",
    "reverse_array(b)"
   ]
  },
  {
   "cell_type": "markdown",
   "id": "e1c6bd99-7fa9-4d5b-9271-ec8f6be56323",
   "metadata": {},
   "source": [
    "list1 = [2, 3, 4, 6]  \n",
    "list2 = [8, 10, 12, 14]  \n",
    "Create an array from the two lists above. Then write code to check the shape, dimensions, and data type of the array."
   ]
  },
  {
   "cell_type": "code",
   "execution_count": 11,
   "id": "47b23657-fe36-441d-8248-9e9fec7f1511",
   "metadata": {},
   "outputs": [
    {
     "name": "stdout",
     "output_type": "stream",
     "text": [
      "The shape of the array is (2, 4) and has 8 elements. The type of the elements is <class 'numpy.ndarray'>.\n"
     ]
    }
   ],
   "source": [
    "list1 = [2, 3, 4, 6]  \n",
    "list2 = [8, 10, 12, 14]\n",
    "c = np.array([list1,list2])\n",
    "print(f'The shape of the array is {c.shape} and has {c.size} elements. The type of the elements is {type(c)}.')"
   ]
  },
  {
   "cell_type": "markdown",
   "id": "515ea123-3248-4746-a6ca-c2fdd24a050d",
   "metadata": {},
   "source": [
    "list1 = [2, 3, 4, 6]  \n",
    "list2 = [8, 10.1, 12, 14]  \n",
    "list2 = [16, 18, 20, 22.1]  \n",
    "Create an array from the three (3) lists above. Take note that some of the lists contain floats. Create an array that will have an int64 data type."
   ]
  },
  {
   "cell_type": "code",
   "execution_count": 16,
   "id": "3a6c2c9e-3966-4889-a3cf-d5598cf12453",
   "metadata": {},
   "outputs": [
    {
     "data": {
      "text/plain": [
       "array([[ 2,  3,  4,  6],\n",
       "       [ 8, 10, 12, 14],\n",
       "       [16, 18, 20, 22]])"
      ]
     },
     "execution_count": 16,
     "metadata": {},
     "output_type": "execute_result"
    }
   ],
   "source": [
    "list1 = [2, 3, 4, 6]\n",
    "list2 = [8, 10.1, 12, 14] \n",
    "list3 = [16, 18, 20, 22.1]\n",
    "d = np.array([list1,list2,list3])\n",
    "d.astype(int)"
   ]
  },
  {
   "cell_type": "markdown",
   "id": "e0207a3c-cea1-4afc-b6c7-b60c5eff75f7",
   "metadata": {},
   "source": [
    "Is it possible to create an array of both floats and integers?  \n",
    "Numpy arrays are made of elements of the same type. It's not possible to store in the same array elements from different classes. If we build up an array with at least one float element, all of the elements in the array will be casted to float type."
   ]
  },
  {
   "cell_type": "markdown",
   "id": "550bc76c-71c6-4a72-b013-7785962185db",
   "metadata": {},
   "source": [
    "## Day 3: Generating Random Arrays"
   ]
  },
  {
   "cell_type": "markdown",
   "id": "23ecd3b0-95bb-4828-9c63-645b29b77340",
   "metadata": {},
   "source": [
    "In this challenge, you are going to generate an array with\n",
    "some random numbers using NumPy, and create some\n",
    "visualizations using Matplotlib.\n",
    "1. Using NumPy create an array of random numbers between 0 and 1. The shape of the array must be (3, 4).\n",
    "Use seed to ensure that the results are reproducible.\n",
    "2. Create an array of random integers between 0 and 10. The shape of the array must be (3, 4).\n",
    "3. Using NumPy, generate an array of 1000 random numbers from a standard normal distribution with mean 0 and\n",
    "variance 1. Create a hist plot with this array. Use the parameter seed to ensure the results are reproducible.\n",
    "4. arr = [ \"Orange\", \"Apple\", \"Pear\"]\n",
    "Using random.choice() from NumPy, generate an array from the list above. The shape of the array must be (3, 4)."
   ]
  },
  {
   "cell_type": "code",
   "execution_count": 26,
   "id": "dd3df4b7-e5e8-492b-b0c5-af190819e02a",
   "metadata": {},
   "outputs": [
    {
     "data": {
      "text/plain": [
       "array([[-0.41748213,  0.7060321 ,  1.9159847 , -2.1417555 ],\n",
       "       [ 0.71905689,  0.46707262,  0.76672253,  0.88200945],\n",
       "       [ 0.80875066, -0.94716485, -0.12903843, -0.63086044]])"
      ]
     },
     "execution_count": 26,
     "metadata": {},
     "output_type": "execute_result"
    }
   ],
   "source": [
    "np.random.seed(29)\n",
    "a = np.random.randn(3,4)\n",
    "a"
   ]
  },
  {
   "cell_type": "code",
   "execution_count": 28,
   "id": "4fbbe5ea-7dde-412a-92dc-cc02340bf8f8",
   "metadata": {},
   "outputs": [
    {
     "data": {
      "text/plain": [
       "array([[2, 8, 1, 1],\n",
       "       [4, 6, 1, 6],\n",
       "       [4, 9, 0, 2]])"
      ]
     },
     "execution_count": 28,
     "metadata": {},
     "output_type": "execute_result"
    }
   ],
   "source": [
    "b = np.random.randint(0,10,(3,4))\n",
    "b"
   ]
  },
  {
   "cell_type": "code",
   "execution_count": 34,
   "id": "f165a679-e0b5-4f62-9601-384cd28f15c3",
   "metadata": {},
   "outputs": [
    {
     "data": {
      "text/plain": [
       "array([-0.41748213,  0.7060321 ,  1.9159847 , -2.1417555 ,  0.71905689,\n",
       "        0.46707262,  0.76672253,  0.88200945,  0.80875066, -0.94716485])"
      ]
     },
     "execution_count": 34,
     "metadata": {},
     "output_type": "execute_result"
    }
   ],
   "source": [
    "np.random.seed(29)\n",
    "c = np.random.randn(1000)\n",
    "c[:10]"
   ]
  },
  {
   "cell_type": "code",
   "execution_count": 43,
   "id": "e66c1b88-d5f9-433c-945a-3637ed0819fd",
   "metadata": {},
   "outputs": [
    {
     "data": {
      "image/png": "[encoded data removed]",
      "text/plain": [
       "<Figure size 640x480 with 1 Axes>"
      ]
     },
     "metadata": {},
     "output_type": "display_data"
    }
   ],
   "source": [
    "plt.hist(c, bins=25, color='lightgreen', edgecolor='gray') ;"
   ]
  },
  {
   "cell_type": "code",
   "execution_count": 48,
   "id": "0519ec3b-9165-40c5-b64f-3c1134199677",
   "metadata": {},
   "outputs": [
    {
     "data": {
      "text/plain": [
       "array([['Orange', 'Orange', 'Pear', 'Orange'],\n",
       "       ['Apple', 'Orange', 'Pear', 'Apple'],\n",
       "       ['Apple', 'Pear', 'Apple', 'Apple']], dtype='<U6')"
      ]
     },
     "execution_count": 48,
     "metadata": {},
     "output_type": "execute_result"
    }
   ],
   "source": [
    "arr = [ \"Orange\", \"Apple\", \"Pear\"]\n",
    "d = np.random.choice(arr, (3,4))\n",
    "d"
   ]
  },
  {
   "cell_type": "markdown",
   "id": "d84b5c7f-d081-45ba-8693-99fe43bb4961",
   "metadata": {},
   "source": [
    "## Day 4: NumPy Arrays and Vector Operations"
   ]
  },
  {
   "cell_type": "markdown",
   "id": "f7860ea4-5379-4301-ac77-250446f32fbb",
   "metadata": {},
   "source": [
    "In this challenge, you will create arrays and perform vector operations with them. These operations are an important feature of NumPy that makes it popular for scientific and numerical computing.\n",
    "1. Create two arrays of random integers between 10 and 20.\n",
    "The shape of the array must be (2, 3) for the first array and (1, 3) for the second array. Check the shape of the arrays. Ensure that the results are reproducible.\n",
    "2. Write a code to add the two arrays you just created in question 1. Check the shape of the resulting array. Explain why the resulting shape is that of the bigger array from the two arrays created in question 1?\n",
    "3. Write another code to perform a dot operation on the arrays.\n",
    "4. Using NumPy, create a 1-dimensional array of 100 random integers between 0 and 10. Use the array to create a histogram of the data and calculate the median and mode. Ensure that the results are reproducible.\n",
    "5. Using NumPy, create a 3-dimensional array of 100 random floats between 0 and 1. Use the array to create a 3D scatter plot of the data. Ensure that your results are reproducible.\n",
    "6. Create a an array from the list below:  \n",
    "lst =[[0, 1, 3, 0, 4], [8, 9, 0, 9, 6]]  \n",
    "Write code to flatten the list and return all non-zero numbers from the list."
   ]
  },
  {
   "cell_type": "code",
   "execution_count": 56,
   "id": "227c2b16-e73e-4bfc-8b00-d30987aa9da3",
   "metadata": {},
   "outputs": [],
   "source": [
    "# bare in mind the following: (extracted from numpy.random.randint documentation)\n",
    "# Return random integers from `low` (inclusive) to `high` (exclusive). Upper limit is exclusive\n",
    "np.random.seed(29)\n",
    "a1 = np.random.randint(10,21,(2,3))\n",
    "a2 = np.random.randint(10,21,(1,3))"
   ]
  },
  {
   "cell_type": "code",
   "execution_count": 57,
   "id": "c74152e4-02ac-47d6-81e3-72d4d9bb5410",
   "metadata": {},
   "outputs": [
    {
     "data": {
      "text/plain": [
       "(2, 3)"
      ]
     },
     "execution_count": 57,
     "metadata": {},
     "output_type": "execute_result"
    }
   ],
   "source": [
    "a1.shape"
   ]
  },
  {
   "cell_type": "code",
   "execution_count": 58,
   "id": "7700e8cc-cfd1-4828-a81c-0c7a8b22a8ea",
   "metadata": {},
   "outputs": [
    {
     "data": {
      "text/plain": [
       "(1, 3)"
      ]
     },
     "execution_count": 58,
     "metadata": {},
     "output_type": "execute_result"
    }
   ],
   "source": [
    "a2.shape"
   ]
  },
  {
   "cell_type": "code",
   "execution_count": 59,
   "id": "0c0f1166-4b1e-49a6-9853-e8b1e2742edc",
   "metadata": {},
   "outputs": [
    {
     "data": {
      "text/plain": [
       "array([[15, 13, 12],\n",
       "       [18, 10, 19]])"
      ]
     },
     "execution_count": 59,
     "metadata": {},
     "output_type": "execute_result"
    }
   ],
   "source": [
    "a1"
   ]
  },
  {
   "cell_type": "code",
   "execution_count": 60,
   "id": "d97b7c23-3281-4381-bc9d-c79a699f7739",
   "metadata": {},
   "outputs": [
    {
     "data": {
      "text/plain": [
       "array([[11, 18, 15]])"
      ]
     },
     "execution_count": 60,
     "metadata": {},
     "output_type": "execute_result"
    }
   ],
   "source": [
    "a2"
   ]
  },
  {
   "cell_type": "code",
   "execution_count": 55,
   "id": "90fc96e0-3a83-4735-8a4d-f2b7c754c1a6",
   "metadata": {},
   "outputs": [
    {
     "data": {
      "text/plain": [
       "array([[26, 31, 27],\n",
       "       [29, 28, 34]])"
      ]
     },
     "execution_count": 55,
     "metadata": {},
     "output_type": "execute_result"
    }
   ],
   "source": [
    "a1 + a2"
   ]
  },
  {
   "cell_type": "markdown",
   "id": "d26ac945-3e14-4d38-a311-d1d5e7ec6edf",
   "metadata": {},
   "source": [
    "The shape of the resulting array is the shape of the biggest array. In order to sum up the elements, the `a2` array has been broadcasted. It means its shape has been expanded to fit the shape of the biggest array. This way, `numpy` can perform the addition element by element."
   ]
  },
  {
   "cell_type": "code",
   "execution_count": 62,
   "id": "ad4fb5f4-b367-48ed-a1d2-c5f2732e7c2d",
   "metadata": {},
   "outputs": [
    {
     "ename": "ValueError",
     "evalue": "shapes (2,3) and (1,3) not aligned: 3 (dim 1) != 1 (dim 0)",
     "output_type": "error",
     "traceback": [
      "\u001b[0;31m---------------------------------------------------------------------------\u001b[0m",
      "\u001b[0;31mValueError\u001b[0m                                Traceback (most recent call last)",
      "Cell \u001b[0;32mIn[62], line 1\u001b[0m\n\u001b[0;32m----> 1\u001b[0m \u001b[43mnp\u001b[49m\u001b[38;5;241;43m.\u001b[39;49m\u001b[43mdot\u001b[49m\u001b[43m(\u001b[49m\u001b[43ma1\u001b[49m\u001b[43m,\u001b[49m\u001b[43ma2\u001b[49m\u001b[43m)\u001b[49m\n",
      "\u001b[0;31mValueError\u001b[0m: shapes (2,3) and (1,3) not aligned: 3 (dim 1) != 1 (dim 0)"
     ]
    }
   ],
   "source": [
    "np.dot(a1,a2)"
   ]
  },
  {
   "cell_type": "code",
   "execution_count": 63,
   "id": "0987e85d-ae5d-4c05-9419-080904d61eb0",
   "metadata": {},
   "outputs": [
    {
     "ename": "ValueError",
     "evalue": "shapes (1,3) and (2,3) not aligned: 3 (dim 1) != 2 (dim 0)",
     "output_type": "error",
     "traceback": [
      "\u001b[0;31m---------------------------------------------------------------------------\u001b[0m",
      "\u001b[0;31mValueError\u001b[0m                                Traceback (most recent call last)",
      "Cell \u001b[0;32mIn[63], line 1\u001b[0m\n\u001b[0;32m----> 1\u001b[0m \u001b[43mnp\u001b[49m\u001b[38;5;241;43m.\u001b[39;49m\u001b[43mdot\u001b[49m\u001b[43m(\u001b[49m\u001b[43ma2\u001b[49m\u001b[43m,\u001b[49m\u001b[43ma1\u001b[49m\u001b[43m)\u001b[49m\n",
      "\u001b[0;31mValueError\u001b[0m: shapes (1,3) and (2,3) not aligned: 3 (dim 1) != 2 (dim 0)"
     ]
    }
   ],
   "source": [
    "np.dot(a2,a1)"
   ]
  },
  {
   "cell_type": "markdown",
   "id": "2980e5c5-93d1-4425-be42-1f33444d065b",
   "metadata": {},
   "source": [
    "In order to perform a dot multiplication of these 2 arrays, dimensions need to be an allowed combination. In Algebra, for two matrices to be able to be multiplicated, the number of columns of the 1st matrix must be equal to the number of rows of the 2nd matrix."
   ]
  },
  {
   "cell_type": "code",
   "execution_count": 65,
   "id": "bc2b64bd-8d29-4281-abd4-92d3d0adb9fb",
   "metadata": {},
   "outputs": [
    {
     "data": {
      "text/plain": [
       "array([[579],\n",
       "       [663]])"
      ]
     },
     "execution_count": 65,
     "metadata": {},
     "output_type": "execute_result"
    }
   ],
   "source": [
    "np.dot(a1,a2.T)"
   ]
  },
  {
   "cell_type": "code",
   "execution_count": 74,
   "id": "5b1d8dda-c06a-4279-a71f-618a2914d803",
   "metadata": {},
   "outputs": [],
   "source": [
    "np.random.seed(29)\n",
    "b = np.random.randint(0,11,100)"
   ]
  },
  {
   "cell_type": "code",
   "execution_count": 73,
   "id": "ff3d7628-2fc3-45c5-8108-491894bc806e",
   "metadata": {},
   "outputs": [
    {
     "data": {
      "image/png": "[encoded data removed]",
      "text/plain": [
       "<Figure size 640x480 with 1 Axes>"
      ]
     },
     "metadata": {},
     "output_type": "display_data"
    }
   ],
   "source": [
    "plt.hist(b, color='lightgreen', edgecolor='gray') ;"
   ]
  },
  {
   "cell_type": "code",
   "execution_count": 70,
   "id": "dcf5e617-100b-4e2f-8183-04c76feccc76",
   "metadata": {},
   "outputs": [
    {
     "name": "stdout",
     "output_type": "stream",
     "text": [
      "The mode of the sample is 4.0.\n"
     ]
    }
   ],
   "source": [
    "print(f'The mode of the sample is {np.median(b)}.')"
   ]
  },
  {
   "cell_type": "code",
   "execution_count": 85,
   "id": "1fe677f7-983c-4ca4-8010-c32efcd2644a",
   "metadata": {},
   "outputs": [],
   "source": [
    "np.random.seed(29)\n",
    "d = np.random.randn(100).reshape(10,10,1)"
   ]
  },
  {
   "cell_type": "code",
   "execution_count": 97,
   "id": "ef7810aa-ec08-4f84-b16c-e67bab22fb2b",
   "metadata": {},
   "outputs": [
    {
     "data": {
      "image/png": "[encoded data removed]",
      "text/plain": [
       "<Figure size 640x480 with 1 Axes>"
      ]
     },
     "metadata": {},
     "output_type": "display_data"
    }
   ],
   "source": [
    "plt.imshow(d, cmap='viridis') ;\n",
    "plt.title('3D representation of a 10x10 array of normally distributed values.') ;\n",
    "plt.xlabel('x values') ;\n",
    "plt.ylabel('y values') ;"
   ]
  },
  {
   "cell_type": "code",
   "execution_count": 98,
   "id": "6a98106f-ba09-462d-81d3-a113872402d4",
   "metadata": {},
   "outputs": [
    {
     "data": {
      "text/plain": [
       "(2, 5)"
      ]
     },
     "execution_count": 98,
     "metadata": {},
     "output_type": "execute_result"
    }
   ],
   "source": [
    "lst =[[0, 1, 3, 0, 4], [8, 9, 0, 9, 6]]\n",
    "e = np.array(lst)\n",
    "e.shape"
   ]
  },
  {
   "cell_type": "code",
   "execution_count": 103,
   "id": "4a27162a-ea21-4a60-98b1-0068df8fbfe9",
   "metadata": {},
   "outputs": [
    {
     "data": {
      "text/plain": [
       "array([0, 1, 3, 0, 4, 8, 9, 0, 9, 6])"
      ]
     },
     "execution_count": 103,
     "metadata": {},
     "output_type": "execute_result"
    }
   ],
   "source": [
    "e2 = e.flatten()\n",
    "e2"
   ]
  },
  {
   "cell_type": "code",
   "execution_count": 104,
   "id": "5b858b51-abdb-41f5-a219-a7d81cad4ce2",
   "metadata": {},
   "outputs": [
    {
     "data": {
      "text/plain": [
       "array([1, 3, 4, 8, 9, 9, 6])"
      ]
     },
     "execution_count": 104,
     "metadata": {},
     "output_type": "execute_result"
    }
   ],
   "source": [
    "e2[e2 != 0]"
   ]
  },
  {
   "cell_type": "markdown",
   "id": "e38e697a-97e0-4686-872c-41d198ee5982",
   "metadata": {},
   "source": [
    "## Day 5: Array Creation and Vector Operations"
   ]
  },
  {
   "cell_type": "markdown",
   "id": "63bdba7b-6994-4cb5-87fa-a8d62344ab0c",
   "metadata": {},
   "source": [
    "In this challenge, you will create a 2-dimensional array, slice numbers from the array.  \n",
    "list_numbers = [[12, 23, -45], [18, -77, -44]]\n",
    "1. Using NumPy, create an array from the list. Write a code to return all the negative numbers in the list.\n",
    "2. Using NumPy, write code to multiply each element in the array you created in question 1 by 2. Create a new variable for this array.\n",
    "3. Write code to calculate the sum of the numbers on axis-1 of the array you created in question 2.\n",
    "4. Write code to calculate the sum of numbers on axis-0 of the array you created in question 2.\n",
    "5. Using the NumPy arange() function, create a NumPy array of numbers of 0 to 99. The shape of the array must be (2, 5,\n",
    "10).\n",
    "6. Write code to slice row [50, 51, 52, 53, 54, 55, 56, 57, 58,\n",
    "59] from the array above (question 5).\n",
    "7. Let’s analyze the array you created in question 1 further.\n",
    "How many numbers in row 1 are greater than the numbers in row 2?"
   ]
  },
  {
   "cell_type": "code",
   "execution_count": 7,
   "id": "9731a008-1086-4573-820d-1ae86baa0f25",
   "metadata": {},
   "outputs": [],
   "source": [
    "list_numbers = [[12, 23, -45], [18, -77, -44]]"
   ]
  },
  {
   "cell_type": "code",
   "execution_count": 9,
   "id": "b49e63e3-14a6-4388-959d-2e5c4bb19c90",
   "metadata": {},
   "outputs": [],
   "source": [
    "a = np.array(list_numbers)"
   ]
  },
  {
   "cell_type": "code",
   "execution_count": 10,
   "id": "8e0170fb-b7c8-4677-97c5-7d78f8519beb",
   "metadata": {},
   "outputs": [
    {
     "data": {
      "text/plain": [
       "array([[ 12,  23, -45],\n",
       "       [ 18, -77, -44]])"
      ]
     },
     "execution_count": 10,
     "metadata": {},
     "output_type": "execute_result"
    }
   ],
   "source": [
    "a"
   ]
  },
  {
   "cell_type": "code",
   "execution_count": 107,
   "id": "81db94f0-67f1-45e5-a823-c5bc46157281",
   "metadata": {},
   "outputs": [
    {
     "data": {
      "text/plain": [
       "array([-45, -77, -44])"
      ]
     },
     "execution_count": 107,
     "metadata": {},
     "output_type": "execute_result"
    }
   ],
   "source": [
    "a[a<0]"
   ]
  },
  {
   "cell_type": "code",
   "execution_count": 110,
   "id": "15b7dcf7-377a-4e43-9b70-e297f323496a",
   "metadata": {},
   "outputs": [
    {
     "data": {
      "text/plain": [
       "array([[  24,   46,  -90],\n",
       "       [  36, -154,  -88]])"
      ]
     },
     "execution_count": 110,
     "metadata": {},
     "output_type": "execute_result"
    }
   ],
   "source": [
    "b = 2 * a\n",
    "b"
   ]
  },
  {
   "cell_type": "code",
   "execution_count": 111,
   "id": "f2596268-973f-4aed-b2fd-b87e2861659a",
   "metadata": {},
   "outputs": [
    {
     "data": {
      "text/plain": [
       "array([ -20, -206])"
      ]
     },
     "execution_count": 111,
     "metadata": {},
     "output_type": "execute_result"
    }
   ],
   "source": [
    "b.sum(axis=1)"
   ]
  },
  {
   "cell_type": "code",
   "execution_count": 112,
   "id": "2d55a828-b785-4d4b-9344-bb28e6f6d0de",
   "metadata": {},
   "outputs": [
    {
     "data": {
      "text/plain": [
       "array([  60, -108, -178])"
      ]
     },
     "execution_count": 112,
     "metadata": {},
     "output_type": "execute_result"
    }
   ],
   "source": [
    "b.sum(axis=0)"
   ]
  },
  {
   "cell_type": "code",
   "execution_count": 3,
   "id": "dd9532fd-a9bf-4c7b-ba9a-97587c32f5d4",
   "metadata": {},
   "outputs": [],
   "source": [
    "c = np.arange(0,100).reshape(2,5,10)"
   ]
  },
  {
   "cell_type": "code",
   "execution_count": 4,
   "id": "b8219215-f0e8-474a-8ff9-1578a987eb23",
   "metadata": {},
   "outputs": [
    {
     "data": {
      "text/plain": [
       "array([[[ 0,  1,  2,  3,  4,  5,  6,  7,  8,  9],\n",
       "        [10, 11, 12, 13, 14, 15, 16, 17, 18, 19],\n",
       "        [20, 21, 22, 23, 24, 25, 26, 27, 28, 29],\n",
       "        [30, 31, 32, 33, 34, 35, 36, 37, 38, 39],\n",
       "        [40, 41, 42, 43, 44, 45, 46, 47, 48, 49]],\n",
       "\n",
       "       [[50, 51, 52, 53, 54, 55, 56, 57, 58, 59],\n",
       "        [60, 61, 62, 63, 64, 65, 66, 67, 68, 69],\n",
       "        [70, 71, 72, 73, 74, 75, 76, 77, 78, 79],\n",
       "        [80, 81, 82, 83, 84, 85, 86, 87, 88, 89],\n",
       "        [90, 91, 92, 93, 94, 95, 96, 97, 98, 99]]])"
      ]
     },
     "execution_count": 4,
     "metadata": {},
     "output_type": "execute_result"
    }
   ],
   "source": [
    "c"
   ]
  },
  {
   "cell_type": "code",
   "execution_count": 5,
   "id": "99823e8c-785c-4e84-bf29-a15d1fd801c5",
   "metadata": {},
   "outputs": [
    {
     "data": {
      "text/plain": [
       "array([50, 51, 52, 53, 54, 55, 56, 57, 58, 59])"
      ]
     },
     "execution_count": 5,
     "metadata": {},
     "output_type": "execute_result"
    }
   ],
   "source": [
    "c[1,0,] # level, row, column"
   ]
  },
  {
   "cell_type": "code",
   "execution_count": 12,
   "id": "426d8549-b3d8-4f89-971c-4a4a0fae8dc0",
   "metadata": {},
   "outputs": [
    {
     "data": {
      "text/plain": [
       "array([[ 12,  23, -45],\n",
       "       [ 18, -77, -44]])"
      ]
     },
     "execution_count": 12,
     "metadata": {},
     "output_type": "execute_result"
    }
   ],
   "source": [
    "a"
   ]
  },
  {
   "cell_type": "code",
   "execution_count": 11,
   "id": "1a95834d-699b-4a92-9da8-a146385df566",
   "metadata": {},
   "outputs": [
    {
     "data": {
      "text/plain": [
       "1"
      ]
     },
     "execution_count": 11,
     "metadata": {},
     "output_type": "execute_result"
    }
   ],
   "source": [
    "sum(a[0,] > a[1,])"
   ]
  },
  {
   "cell_type": "markdown",
   "id": "44eb4354-fd21-4853-bf45-f4d97173b760",
   "metadata": {},
   "source": [
    "## Day 6: Array Manipulation and Vector Operations"
   ]
  },
  {
   "cell_type": "markdown",
   "id": "fdeb7847-4328-4579-8c32-a0b876b9d820",
   "metadata": {},
   "source": [
    "In this challenge, your task is to create a NumPy array from a list of strings. This particular challenge aims to assess your proficiency in generating arrays and manipulating array data types as a means of enhancing data processing flexibility.  \n",
    "\n",
    "list_str = [\"23\", \"12\", \"90\", \"28\", \"30\"]  \n",
    "\n",
    "1. Create a NumPy array with the list above. Calculate the standard deviation of the array.\n",
    "2. Write a code to change the data type of the array you created in question one (1) to a floating data type. Save this as a new variable.\n",
    "3. Write a code to return the sum of values [90.0, 28.0, 30.0] from the array you just created in question (3).\n",
    "4. Create a 2-dimensional array of random integers from 0 to 100 with the shape (5, 5). Use the array to find the minimum and maximum values, as well as the mean and standard deviation. Ensure that the results are reproducible.\n",
    "5. Below are two arrays:  \n",
    "first_names = [\"John\", \" Kenny\"]\n",
    "last_names = [\"Smith\", \" Sakula\"]\n",
    "Using NumPy’s char.join() function, create two arrays by joining the first name with the last name. Your first array should be: array(['John', 'Smith'], dtype='U6' ). Your second array should be: array(['Kenny', 'Sakula'] , dtype='U6' )."
   ]
  },
  {
   "cell_type": "code",
   "execution_count": 20,
   "id": "664f1777-02d8-481d-8d5a-2e29efc76216",
   "metadata": {},
   "outputs": [
    {
     "data": {
      "text/plain": [
       "array(['23', '12', '90', '28', '30'], dtype='<U2')"
      ]
     },
     "execution_count": 20,
     "metadata": {},
     "output_type": "execute_result"
    }
   ],
   "source": [
    "list_str = [\"23\", \"12\", \"90\", \"28\", \"30\"] \n",
    "a = np.array(list_str)\n",
    "a"
   ]
  },
  {
   "cell_type": "code",
   "execution_count": 25,
   "id": "b348f7a7-c346-4cf6-a565-94a03f914687",
   "metadata": {},
   "outputs": [],
   "source": [
    "b = a.astype(float)"
   ]
  },
  {
   "cell_type": "code",
   "execution_count": 24,
   "id": "638b1565-db36-4cbf-b692-e5055d2612c2",
   "metadata": {},
   "outputs": [
    {
     "data": {
      "text/plain": [
       "27.419700946582186"
      ]
     },
     "execution_count": 24,
     "metadata": {},
     "output_type": "execute_result"
    }
   ],
   "source": [
    "np.std(a)"
   ]
  },
  {
   "cell_type": "code",
   "execution_count": 35,
   "id": "59c69865-16ae-4e5b-8290-f3d7b0f41085",
   "metadata": {},
   "outputs": [
    {
     "data": {
      "text/plain": [
       "148.0"
      ]
     },
     "execution_count": 35,
     "metadata": {},
     "output_type": "execute_result"
    }
   ],
   "source": [
    "sum(b[-3:])"
   ]
  },
  {
   "cell_type": "code",
   "execution_count": 37,
   "id": "537cd2ae-cf28-4d47-b61b-a937868b7651",
   "metadata": {},
   "outputs": [],
   "source": [
    "np.random.seed(29)\n",
    "c = np.random.randint(0,101,(5,5))"
   ]
  },
  {
   "cell_type": "code",
   "execution_count": 39,
   "id": "fe1aac53-dc75-48ae-9393-a1ff64469183",
   "metadata": {},
   "outputs": [],
   "source": [
    "import pandas as pd"
   ]
  },
  {
   "cell_type": "code",
   "execution_count": 44,
   "id": "d7127770-620b-4e66-8795-c920f1e14716",
   "metadata": {},
   "outputs": [
    {
     "data": {
      "text/plain": [
       "minimum                2.000000\n",
       "maximum               97.000000\n",
       "mean                  57.280000\n",
       "standard deviation    29.742253\n",
       "dtype: float64"
      ]
     },
     "execution_count": 44,
     "metadata": {},
     "output_type": "execute_result"
    }
   ],
   "source": [
    "pd.Series([np.min(c), np.max(c), np.mean(c), np.std(c)], index=['minimum', 'maximum', 'mean', 'standard deviation'])"
   ]
  },
  {
   "cell_type": "markdown",
   "id": "e15d1f03-98cf-4097-98f6-c8eb1b2dc096",
   "metadata": {},
   "source": [
    "`min(c)` returns an error since `c` is a matrix. To ge the the minimum value, use `np.min(c)`"
   ]
  },
  {
   "cell_type": "code",
   "execution_count": 45,
   "id": "5d457364-062a-42c8-bf51-c626cd52f74a",
   "metadata": {},
   "outputs": [
    {
     "ename": "ValueError",
     "evalue": "The truth value of an array with more than one element is ambiguous. Use a.any() or a.all()",
     "output_type": "error",
     "traceback": [
      "\u001b[0;31m---------------------------------------------------------------------------\u001b[0m",
      "\u001b[0;31mValueError\u001b[0m                                Traceback (most recent call last)",
      "Cell \u001b[0;32mIn[45], line 1\u001b[0m\n\u001b[0;32m----> 1\u001b[0m \u001b[38;5;28;43mmin\u001b[39;49m\u001b[43m(\u001b[49m\u001b[43mc\u001b[49m\u001b[43m)\u001b[49m\n",
      "\u001b[0;31mValueError\u001b[0m: The truth value of an array with more than one element is ambiguous. Use a.any() or a.all()"
     ]
    }
   ],
   "source": [
    "min(c)"
   ]
  },
  {
   "cell_type": "code",
   "execution_count": 46,
   "id": "10b3a780-7f27-486a-9969-5a8ab175d0a8",
   "metadata": {},
   "outputs": [
    {
     "data": {
      "text/plain": [
       "2"
      ]
     },
     "execution_count": 46,
     "metadata": {},
     "output_type": "execute_result"
    }
   ],
   "source": [
    "np.min(c)"
   ]
  },
  {
   "cell_type": "markdown",
   "id": "f919924b-4cdf-4326-b947-cd66299ee348",
   "metadata": {},
   "source": [
    "Below are two arrays: first_names = [\"John\", \" Kenny\"] last_names = [\"Smith\", \" Sakula\"] Using NumPy’s char.join() function, create two arrays by joining the first name with the last name. Your first array should be: array(['John', 'Smith'], dtype='U6' ). Your second array should be: array(['Kenny', 'Sakula'] , dtype='U6' )."
   ]
  },
  {
   "cell_type": "code",
   "execution_count": 48,
   "id": "ee058f85-e0e9-4c65-b271-0a723e3ec007",
   "metadata": {},
   "outputs": [],
   "source": [
    "first_names = [\"John\", \" Kenny\"]\n",
    "last_names = [\"Smith\", \" Sakula\"]"
   ]
  },
  {
   "cell_type": "code",
   "execution_count": 50,
   "id": "a3746bc4-c844-49de-a856-030c20849e7b",
   "metadata": {},
   "outputs": [
    {
     "data": {
      "text/plain": [
       "array('SJohnmJohniJohntJohnh', dtype='<U21')"
      ]
     },
     "execution_count": 50,
     "metadata": {},
     "output_type": "execute_result"
    }
   ],
   "source": [
    "np.char.join(first_names[0], last_names[0])"
   ]
  },
  {
   "cell_type": "markdown",
   "id": "ffc146e8-4ca7-4c8a-bf98-831f4861ffeb",
   "metadata": {},
   "source": [
    "## Day 29. Car Service Data Analysis "
   ]
  },
  {
   "cell_type": "markdown",
   "id": "1c1141c0-e688-4719-b819-5d785785e473",
   "metadata": {},
   "source": [
    "For this challenge, you are going to analyze the data of a car service business. You will import the car_service_data CSV file.\n",
    "\n",
    "1. Import the car_service_data CSV file. Write a code to return all the column names in the DataFrame. Check the data types of the DataFrame.\n",
    "2. Which location has the highest service costs? Plot a bar plot using Seaborn to visualize the service costs by location.\n",
    "3. Which location has the highest number of customers? Using Matplotlib, plot a pie chart of the location and number of customers. Present the number of customers as percentages. Apply the explode parameter to the location with the highest number of customers. Add a shadow to your plot.\n",
    "4. Using the pandas groupby() method, group the data by the product type and find the average profit margin for each product. Format your output to 1 decimal place and present it as a percentage.\n",
    "5. What is the advertising cost of each region as a percentage of total revenue? Using the rank() method, rank each region by the cost of advertising as a percentage of revenue in descending order (add a rank column to the grouped data). Which region has the lowest rank?"
   ]
  },
  {
   "cell_type": "code",
   "execution_count": 143,
   "id": "81a5d1c5-9492-44f7-bb06-3c6f1db587f9",
   "metadata": {},
   "outputs": [],
   "source": [
    "df = pd.read_csv('car_service_data.csv')"
   ]
  },
  {
   "cell_type": "code",
   "execution_count": 144,
   "id": "b0040241-13ec-424f-89b4-d4c30e71a605",
   "metadata": {},
   "outputs": [
    {
     "data": {
      "text/html": [
       "<div>\n",
       "<style scoped>\n",
       "    .dataframe tbody tr th:only-of-type {\n",
       "        vertical-align: middle;\n",
       "    }\n",
       "\n",
       "    .dataframe tbody tr th {\n",
       "        vertical-align: top;\n",
       "    }\n",
       "\n",
       "    .dataframe thead th {\n",
       "        text-align: right;\n",
       "    }\n",
       "</style>\n",
       "<table border=\"1\" class=\"dataframe\">\n",
       "  <thead>\n",
       "    <tr style=\"text-align: right;\">\n",
       "      <th></th>\n",
       "      <th>Service ID</th>\n",
       "      <th>Service Type</th>\n",
       "      <th>Service Cost</th>\n",
       "      <th>Service Revenue</th>\n",
       "      <th>Number of Customers</th>\n",
       "      <th>Advertising Cost</th>\n",
       "      <th>Location</th>\n",
       "    </tr>\n",
       "  </thead>\n",
       "  <tbody>\n",
       "    <tr>\n",
       "      <th>0</th>\n",
       "      <td>1</td>\n",
       "      <td>Oil Change</td>\n",
       "      <td>$25</td>\n",
       "      <td>$50</td>\n",
       "      <td>10</td>\n",
       "      <td>$100</td>\n",
       "      <td>Urban</td>\n",
       "    </tr>\n",
       "    <tr>\n",
       "      <th>1</th>\n",
       "      <td>2</td>\n",
       "      <td>Brake Repair</td>\n",
       "      <td>$200</td>\n",
       "      <td>$500</td>\n",
       "      <td>5</td>\n",
       "      <td>$50</td>\n",
       "      <td>Suburban</td>\n",
       "    </tr>\n",
       "    <tr>\n",
       "      <th>2</th>\n",
       "      <td>3</td>\n",
       "      <td>Tire Rotation</td>\n",
       "      <td>$30</td>\n",
       "      <td>$75</td>\n",
       "      <td>12</td>\n",
       "      <td>$150</td>\n",
       "      <td>Rural</td>\n",
       "    </tr>\n",
       "    <tr>\n",
       "      <th>3</th>\n",
       "      <td>4</td>\n",
       "      <td>Transmission Repair</td>\n",
       "      <td>$1000</td>\n",
       "      <td>$2500</td>\n",
       "      <td>2</td>\n",
       "      <td>$200</td>\n",
       "      <td>Urban</td>\n",
       "    </tr>\n",
       "    <tr>\n",
       "      <th>4</th>\n",
       "      <td>5</td>\n",
       "      <td>Battery Replacement</td>\n",
       "      <td>$150</td>\n",
       "      <td>$300</td>\n",
       "      <td>8</td>\n",
       "      <td>$75</td>\n",
       "      <td>Suburban</td>\n",
       "    </tr>\n",
       "    <tr>\n",
       "      <th>5</th>\n",
       "      <td>6</td>\n",
       "      <td>Engine Diagnostic</td>\n",
       "      <td>$75</td>\n",
       "      <td>$200</td>\n",
       "      <td>15</td>\n",
       "      <td>$50</td>\n",
       "      <td>Rural</td>\n",
       "    </tr>\n",
       "    <tr>\n",
       "      <th>6</th>\n",
       "      <td>7</td>\n",
       "      <td>AC Recharge</td>\n",
       "      <td>$100</td>\n",
       "      <td>$250</td>\n",
       "      <td>7</td>\n",
       "      <td>$100</td>\n",
       "      <td>Urban</td>\n",
       "    </tr>\n",
       "    <tr>\n",
       "      <th>7</th>\n",
       "      <td>8</td>\n",
       "      <td>Suspension Repair</td>\n",
       "      <td>$500</td>\n",
       "      <td>$1200</td>\n",
       "      <td>3</td>\n",
       "      <td>$150</td>\n",
       "      <td>Suburban</td>\n",
       "    </tr>\n",
       "    <tr>\n",
       "      <th>8</th>\n",
       "      <td>9</td>\n",
       "      <td>Radiator Flush</td>\n",
       "      <td>$50</td>\n",
       "      <td>$125</td>\n",
       "      <td>20</td>\n",
       "      <td>$100</td>\n",
       "      <td>Rural</td>\n",
       "    </tr>\n",
       "    <tr>\n",
       "      <th>9</th>\n",
       "      <td>10</td>\n",
       "      <td>Detailing</td>\n",
       "      <td>$200</td>\n",
       "      <td>$400</td>\n",
       "      <td>6</td>\n",
       "      <td>$50</td>\n",
       "      <td>Urban</td>\n",
       "    </tr>\n",
       "    <tr>\n",
       "      <th>10</th>\n",
       "      <td>11</td>\n",
       "      <td>Wheel Alignment</td>\n",
       "      <td>$75</td>\n",
       "      <td>$200</td>\n",
       "      <td>15</td>\n",
       "      <td>$75</td>\n",
       "      <td>Suburban</td>\n",
       "    </tr>\n",
       "    <tr>\n",
       "      <th>11</th>\n",
       "      <td>12</td>\n",
       "      <td>Fuel System Cleaning</td>\n",
       "      <td>$150</td>\n",
       "      <td>$350</td>\n",
       "      <td>10</td>\n",
       "      <td>$100</td>\n",
       "      <td>Rural</td>\n",
       "    </tr>\n",
       "    <tr>\n",
       "      <th>12</th>\n",
       "      <td>13</td>\n",
       "      <td>Windshield Replacement</td>\n",
       "      <td>$300</td>\n",
       "      <td>$700</td>\n",
       "      <td>4</td>\n",
       "      <td>$50</td>\n",
       "      <td>Urban</td>\n",
       "    </tr>\n",
       "    <tr>\n",
       "      <th>13</th>\n",
       "      <td>14</td>\n",
       "      <td>Headlight Restoration</td>\n",
       "      <td>$50</td>\n",
       "      <td>$100</td>\n",
       "      <td>18</td>\n",
       "      <td>$25</td>\n",
       "      <td>Suburban</td>\n",
       "    </tr>\n",
       "    <tr>\n",
       "      <th>14</th>\n",
       "      <td>15</td>\n",
       "      <td>Brake Pad Replacement</td>\n",
       "      <td>$150</td>\n",
       "      <td>$400</td>\n",
       "      <td>7</td>\n",
       "      <td>$100</td>\n",
       "      <td>Rural</td>\n",
       "    </tr>\n",
       "    <tr>\n",
       "      <th>15</th>\n",
       "      <td>16</td>\n",
       "      <td>Alternator Replacement</td>\n",
       "      <td>$500</td>\n",
       "      <td>$1200</td>\n",
       "      <td>4</td>\n",
       "      <td>$150</td>\n",
       "      <td>Urban</td>\n",
       "    </tr>\n",
       "    <tr>\n",
       "      <th>16</th>\n",
       "      <td>17</td>\n",
       "      <td>Spark Plug Replacement</td>\n",
       "      <td>$75</td>\n",
       "      <td>$150</td>\n",
       "      <td>16</td>\n",
       "      <td>$50</td>\n",
       "      <td>Suburban</td>\n",
       "    </tr>\n",
       "    <tr>\n",
       "      <th>17</th>\n",
       "      <td>18</td>\n",
       "      <td>Ignition Coil Replacement</td>\n",
       "      <td>$200</td>\n",
       "      <td>$500</td>\n",
       "      <td>8</td>\n",
       "      <td>$75</td>\n",
       "      <td>Rural</td>\n",
       "    </tr>\n",
       "    <tr>\n",
       "      <th>18</th>\n",
       "      <td>19</td>\n",
       "      <td>Power Steering Flush</td>\n",
       "      <td>$100</td>\n",
       "      <td>$250</td>\n",
       "      <td>9</td>\n",
       "      <td>$100</td>\n",
       "      <td>Urban</td>\n",
       "    </tr>\n",
       "    <tr>\n",
       "      <th>19</th>\n",
       "      <td>20</td>\n",
       "      <td>Catalytic Converter Replacement</td>\n",
       "      <td>$1000</td>\n",
       "      <td>$2500</td>\n",
       "      <td>2</td>\n",
       "      <td>$200</td>\n",
       "      <td>Suburban</td>\n",
       "    </tr>\n",
       "  </tbody>\n",
       "</table>\n",
       "</div>"
      ],
      "text/plain": [
       "    Service ID                     Service Type Service Cost Service Revenue  \\\n",
       "0            1                       Oil Change          $25             $50   \n",
       "1            2                     Brake Repair         $200            $500   \n",
       "2            3                    Tire Rotation          $30             $75   \n",
       "3            4              Transmission Repair        $1000           $2500   \n",
       "4            5              Battery Replacement         $150            $300   \n",
       "5            6                Engine Diagnostic          $75            $200   \n",
       "6            7                      AC Recharge         $100            $250   \n",
       "7            8                Suspension Repair         $500           $1200   \n",
       "8            9                   Radiator Flush          $50            $125   \n",
       "9           10                        Detailing         $200            $400   \n",
       "10          11                  Wheel Alignment          $75            $200   \n",
       "11          12             Fuel System Cleaning         $150            $350   \n",
       "12          13           Windshield Replacement         $300            $700   \n",
       "13          14            Headlight Restoration          $50            $100   \n",
       "14          15            Brake Pad Replacement         $150            $400   \n",
       "15          16           Alternator Replacement         $500           $1200   \n",
       "16          17           Spark Plug Replacement          $75            $150   \n",
       "17          18        Ignition Coil Replacement         $200            $500   \n",
       "18          19             Power Steering Flush         $100            $250   \n",
       "19          20  Catalytic Converter Replacement        $1000           $2500   \n",
       "\n",
       "    Number of Customers Advertising Cost  Location  \n",
       "0                    10             $100     Urban  \n",
       "1                     5              $50  Suburban  \n",
       "2                    12             $150     Rural  \n",
       "3                     2             $200     Urban  \n",
       "4                     8              $75  Suburban  \n",
       "5                    15              $50     Rural  \n",
       "6                     7             $100     Urban  \n",
       "7                     3             $150  Suburban  \n",
       "8                    20             $100     Rural  \n",
       "9                     6              $50     Urban  \n",
       "10                   15              $75  Suburban  \n",
       "11                   10             $100     Rural  \n",
       "12                    4              $50     Urban  \n",
       "13                   18              $25  Suburban  \n",
       "14                    7             $100     Rural  \n",
       "15                    4             $150     Urban  \n",
       "16                   16              $50  Suburban  \n",
       "17                    8              $75     Rural  \n",
       "18                    9             $100     Urban  \n",
       "19                    2             $200  Suburban  "
      ]
     },
     "execution_count": 144,
     "metadata": {},
     "output_type": "execute_result"
    }
   ],
   "source": [
    "df"
   ]
  },
  {
   "cell_type": "code",
   "execution_count": 145,
   "id": "e506ab9c-a884-4dae-b733-0a0dbfb0432f",
   "metadata": {},
   "outputs": [
    {
     "data": {
      "text/plain": [
       "Service ID              int64\n",
       "Service Type           object\n",
       "Service Cost           object\n",
       "Service Revenue        object\n",
       "Number of Customers     int64\n",
       "Advertising Cost       object\n",
       "Location               object\n",
       "dtype: object"
      ]
     },
     "execution_count": 145,
     "metadata": {},
     "output_type": "execute_result"
    }
   ],
   "source": [
    "df.dtypes"
   ]
  },
  {
   "cell_type": "markdown",
   "id": "10c1836b-8d79-48f8-9d2e-3a46455d31e1",
   "metadata": {},
   "source": [
    "Clean the `service cost`, `service revenue` and `advertising cost`. I will leave out the dollar sign and convert to float dtype."
   ]
  },
  {
   "cell_type": "code",
   "execution_count": 146,
   "id": "4e8739c8-b951-4722-b050-e4068d26f392",
   "metadata": {},
   "outputs": [],
   "source": [
    "df.columns = [i.lower().replace(' ', '_') for i in df.columns]"
   ]
  },
  {
   "cell_type": "code",
   "execution_count": 147,
   "id": "c272e1e1-c7f2-42f0-8051-0114152d78a3",
   "metadata": {},
   "outputs": [],
   "source": [
    "df.service_cost = df.service_cost.apply(lambda x : x[1:]).astype(int)\n",
    "df.service_revenue = df.service_revenue.apply(lambda x : x[1:]).astype(int)\n",
    "df.advertising_cost = df.advertising_cost.apply(lambda x : x[1:]).astype(int)"
   ]
  },
  {
   "cell_type": "markdown",
   "id": "87eecf02-3a38-4af9-a7a2-6c4fe021cf0a",
   "metadata": {},
   "source": [
    "Location with the highest service cost:"
   ]
  },
  {
   "cell_type": "code",
   "execution_count": 148,
   "id": "60b644f5-a31a-4199-bae3-3af43e4871eb",
   "metadata": {},
   "outputs": [
    {
     "data": {
      "text/html": [
       "<div>\n",
       "<style scoped>\n",
       "    .dataframe tbody tr th:only-of-type {\n",
       "        vertical-align: middle;\n",
       "    }\n",
       "\n",
       "    .dataframe tbody tr th {\n",
       "        vertical-align: top;\n",
       "    }\n",
       "\n",
       "    .dataframe thead th {\n",
       "        text-align: right;\n",
       "    }\n",
       "</style>\n",
       "<table border=\"1\" class=\"dataframe\">\n",
       "  <thead>\n",
       "    <tr style=\"text-align: right;\">\n",
       "      <th></th>\n",
       "      <th>location</th>\n",
       "      <th>service_cost</th>\n",
       "    </tr>\n",
       "  </thead>\n",
       "  <tbody>\n",
       "    <tr>\n",
       "      <th>3</th>\n",
       "      <td>Urban</td>\n",
       "      <td>1000</td>\n",
       "    </tr>\n",
       "    <tr>\n",
       "      <th>19</th>\n",
       "      <td>Suburban</td>\n",
       "      <td>1000</td>\n",
       "    </tr>\n",
       "  </tbody>\n",
       "</table>\n",
       "</div>"
      ],
      "text/plain": [
       "    location  service_cost\n",
       "3      Urban          1000\n",
       "19  Suburban          1000"
      ]
     },
     "execution_count": 148,
     "metadata": {},
     "output_type": "execute_result"
    }
   ],
   "source": [
    "df[df.service_cost == df.service_cost.max()][['location', 'service_cost']]"
   ]
  },
  {
   "cell_type": "code",
   "execution_count": 149,
   "id": "9fe3ccb9-1c40-4ab2-a5f8-1520cab88f76",
   "metadata": {},
   "outputs": [],
   "source": [
    "average_service_cost_per_location = df.groupby('location')['service_cost'].mean()"
   ]
  },
  {
   "cell_type": "code",
   "execution_count": 172,
   "id": "3d839f85-cdb6-4c8e-88d9-93e921ac8e31",
   "metadata": {},
   "outputs": [
    {
     "name": "stderr",
     "output_type": "stream",
     "text": [
      "/tmp/ipykernel_3173/521752325.py:2: FutureWarning: \n",
      "\n",
      "Passing `palette` without assigning `hue` is deprecated and will be removed in v0.14.0. Assign the `x` variable to `hue` and set `legend=False` for the same effect.\n",
      "\n",
      "  sns.barplot(x=average_service_cost_per_location.index, y=average_service_cost_per_location.values, ax=ax, palette='pastel') ;\n"
     ]
    },
    {
     "data": {
      "image/png": "[encoded data removed]",
      "text/plain": [
       "<Figure size 500x600 with 1 Axes>"
      ]
     },
     "metadata": {},
     "output_type": "display_data"
    }
   ],
   "source": [
    "fig, ax = plt.subplots(figsize=(5,6))\n",
    "sns.barplot(x=average_service_cost_per_location.index, y=average_service_cost_per_location.values, ax=ax, palette='pastel') ;\n",
    "ax.set_xlabel('Location')\n",
    "ax.set_ylabel('Service Cost')\n",
    "ax.set_title('Service Cost per Location type') ;"
   ]
  },
  {
   "cell_type": "markdown",
   "id": "9f98e987-8681-4852-9105-09ecb914aaee",
   "metadata": {},
   "source": [
    "Location with highest number of customers"
   ]
  },
  {
   "cell_type": "code",
   "execution_count": 151,
   "id": "14caf211-a0c3-4380-9a27-16e49e7d9992",
   "metadata": {},
   "outputs": [
    {
     "data": {
      "text/plain": [
       "location\n",
       "Rural       72\n",
       "Suburban    67\n",
       "Urban       42\n",
       "Name: number_of_customers, dtype: int64"
      ]
     },
     "execution_count": 151,
     "metadata": {},
     "output_type": "execute_result"
    }
   ],
   "source": [
    "total_customers_per_loc = df.groupby('location')['number_of_customers'].sum().sort_values(ascending=False)\n",
    "total_customers_per_loc"
   ]
  },
  {
   "cell_type": "code",
   "execution_count": 152,
   "id": "be8c5a3e-0e0d-434a-b6a7-f187393f8f3b",
   "metadata": {},
   "outputs": [
    {
     "data": {
      "image/png": "[encoded data removed]",
      "text/plain": [
       "<Figure size 640x480 with 1 Axes>"
      ]
     },
     "metadata": {},
     "output_type": "display_data"
    }
   ],
   "source": [
    "fig, ax = plt.subplots()\n",
    "plt.pie(total_customers_per_loc, labels = total_customers_per_loc.index, shadow=True, explode = np.array([.08,0,0]), autopct='%1.1f%%' ) ;\n",
    "ax.set_title('Percentage of customers per location type') ;"
   ]
  },
  {
   "cell_type": "code",
   "execution_count": 153,
   "id": "d2a37d91-44b3-4c9a-b0ff-7f9cc6c0ea56",
   "metadata": {},
   "outputs": [
    {
     "data": {
      "text/plain": [
       "Index(['service_id', 'service_type', 'service_cost', 'service_revenue',\n",
       "       'number_of_customers', 'advertising_cost', 'location'],\n",
       "      dtype='object')"
      ]
     },
     "execution_count": 153,
     "metadata": {},
     "output_type": "execute_result"
    }
   ],
   "source": [
    "df.columns"
   ]
  },
  {
   "cell_type": "code",
   "execution_count": 154,
   "id": "8b222e58-3145-42c9-af33-eb2f84734ee5",
   "metadata": {},
   "outputs": [
    {
     "data": {
      "text/html": [
       "<div>\n",
       "<style scoped>\n",
       "    .dataframe tbody tr th:only-of-type {\n",
       "        vertical-align: middle;\n",
       "    }\n",
       "\n",
       "    .dataframe tbody tr th {\n",
       "        vertical-align: top;\n",
       "    }\n",
       "\n",
       "    .dataframe thead th {\n",
       "        text-align: right;\n",
       "    }\n",
       "</style>\n",
       "<table border=\"1\" class=\"dataframe\">\n",
       "  <thead>\n",
       "    <tr style=\"text-align: right;\">\n",
       "      <th></th>\n",
       "      <th>service_id</th>\n",
       "      <th>service_type</th>\n",
       "      <th>service_cost</th>\n",
       "      <th>service_revenue</th>\n",
       "      <th>number_of_customers</th>\n",
       "      <th>advertising_cost</th>\n",
       "      <th>location</th>\n",
       "    </tr>\n",
       "  </thead>\n",
       "  <tbody>\n",
       "    <tr>\n",
       "      <th>0</th>\n",
       "      <td>1</td>\n",
       "      <td>Oil Change</td>\n",
       "      <td>25</td>\n",
       "      <td>50</td>\n",
       "      <td>10</td>\n",
       "      <td>100</td>\n",
       "      <td>Urban</td>\n",
       "    </tr>\n",
       "    <tr>\n",
       "      <th>1</th>\n",
       "      <td>2</td>\n",
       "      <td>Brake Repair</td>\n",
       "      <td>200</td>\n",
       "      <td>500</td>\n",
       "      <td>5</td>\n",
       "      <td>50</td>\n",
       "      <td>Suburban</td>\n",
       "    </tr>\n",
       "  </tbody>\n",
       "</table>\n",
       "</div>"
      ],
      "text/plain": [
       "   service_id  service_type  service_cost  service_revenue  \\\n",
       "0           1    Oil Change            25               50   \n",
       "1           2  Brake Repair           200              500   \n",
       "\n",
       "   number_of_customers  advertising_cost  location  \n",
       "0                   10               100     Urban  \n",
       "1                    5                50  Suburban  "
      ]
     },
     "execution_count": 154,
     "metadata": {},
     "output_type": "execute_result"
    }
   ],
   "source": [
    "df.head(2)"
   ]
  },
  {
   "cell_type": "code",
   "execution_count": 155,
   "id": "3f5dd825-0979-4234-bfd8-74a3d4095029",
   "metadata": {},
   "outputs": [],
   "source": [
    "df['total_profit'] = ( df['service_revenue'] - df['service_cost'] ) * df['number_of_customers'] - df['advertising_cost']"
   ]
  },
  {
   "cell_type": "code",
   "execution_count": 156,
   "id": "f203263e-cdf9-4552-a097-32d42b59b2ca",
   "metadata": {},
   "outputs": [],
   "source": [
    "df['total_cost'] = df['service_cost'] * df['number_of_customers'] + df['advertising_cost']"
   ]
  },
  {
   "cell_type": "code",
   "execution_count": 157,
   "id": "8e0fd7a3-cfbb-452d-a2ac-48ad9a69b238",
   "metadata": {},
   "outputs": [],
   "source": [
    "df['profit_pct'] = round(df['total_profit'] / df['total_cost'] * 100, 1)"
   ]
  },
  {
   "cell_type": "code",
   "execution_count": 158,
   "id": "9793b01e-620b-45ce-9157-def248e57428",
   "metadata": {},
   "outputs": [
    {
     "data": {
      "text/html": [
       "<div>\n",
       "<style scoped>\n",
       "    .dataframe tbody tr th:only-of-type {\n",
       "        vertical-align: middle;\n",
       "    }\n",
       "\n",
       "    .dataframe tbody tr th {\n",
       "        vertical-align: top;\n",
       "    }\n",
       "\n",
       "    .dataframe thead th {\n",
       "        text-align: right;\n",
       "    }\n",
       "</style>\n",
       "<table border=\"1\" class=\"dataframe\">\n",
       "  <thead>\n",
       "    <tr style=\"text-align: right;\">\n",
       "      <th></th>\n",
       "      <th>service_id</th>\n",
       "      <th>service_type</th>\n",
       "      <th>service_cost</th>\n",
       "      <th>service_revenue</th>\n",
       "      <th>number_of_customers</th>\n",
       "      <th>advertising_cost</th>\n",
       "      <th>location</th>\n",
       "      <th>total_profit</th>\n",
       "      <th>total_cost</th>\n",
       "      <th>profit_pct</th>\n",
       "    </tr>\n",
       "  </thead>\n",
       "  <tbody>\n",
       "    <tr>\n",
       "      <th>0</th>\n",
       "      <td>1</td>\n",
       "      <td>Oil Change</td>\n",
       "      <td>25</td>\n",
       "      <td>50</td>\n",
       "      <td>10</td>\n",
       "      <td>100</td>\n",
       "      <td>Urban</td>\n",
       "      <td>150</td>\n",
       "      <td>350</td>\n",
       "      <td>42.9</td>\n",
       "    </tr>\n",
       "    <tr>\n",
       "      <th>1</th>\n",
       "      <td>2</td>\n",
       "      <td>Brake Repair</td>\n",
       "      <td>200</td>\n",
       "      <td>500</td>\n",
       "      <td>5</td>\n",
       "      <td>50</td>\n",
       "      <td>Suburban</td>\n",
       "      <td>1450</td>\n",
       "      <td>1050</td>\n",
       "      <td>138.1</td>\n",
       "    </tr>\n",
       "    <tr>\n",
       "      <th>2</th>\n",
       "      <td>3</td>\n",
       "      <td>Tire Rotation</td>\n",
       "      <td>30</td>\n",
       "      <td>75</td>\n",
       "      <td>12</td>\n",
       "      <td>150</td>\n",
       "      <td>Rural</td>\n",
       "      <td>390</td>\n",
       "      <td>510</td>\n",
       "      <td>76.5</td>\n",
       "    </tr>\n",
       "    <tr>\n",
       "      <th>3</th>\n",
       "      <td>4</td>\n",
       "      <td>Transmission Repair</td>\n",
       "      <td>1000</td>\n",
       "      <td>2500</td>\n",
       "      <td>2</td>\n",
       "      <td>200</td>\n",
       "      <td>Urban</td>\n",
       "      <td>2800</td>\n",
       "      <td>2200</td>\n",
       "      <td>127.3</td>\n",
       "    </tr>\n",
       "    <tr>\n",
       "      <th>4</th>\n",
       "      <td>5</td>\n",
       "      <td>Battery Replacement</td>\n",
       "      <td>150</td>\n",
       "      <td>300</td>\n",
       "      <td>8</td>\n",
       "      <td>75</td>\n",
       "      <td>Suburban</td>\n",
       "      <td>1125</td>\n",
       "      <td>1275</td>\n",
       "      <td>88.2</td>\n",
       "    </tr>\n",
       "  </tbody>\n",
       "</table>\n",
       "</div>"
      ],
      "text/plain": [
       "   service_id         service_type  service_cost  service_revenue  \\\n",
       "0           1           Oil Change            25               50   \n",
       "1           2         Brake Repair           200              500   \n",
       "2           3        Tire Rotation            30               75   \n",
       "3           4  Transmission Repair          1000             2500   \n",
       "4           5  Battery Replacement           150              300   \n",
       "\n",
       "   number_of_customers  advertising_cost  location  total_profit  total_cost  \\\n",
       "0                   10               100     Urban           150         350   \n",
       "1                    5                50  Suburban          1450        1050   \n",
       "2                   12               150     Rural           390         510   \n",
       "3                    2               200     Urban          2800        2200   \n",
       "4                    8                75  Suburban          1125        1275   \n",
       "\n",
       "   profit_pct  \n",
       "0        42.9  \n",
       "1       138.1  \n",
       "2        76.5  \n",
       "3       127.3  \n",
       "4        88.2  "
      ]
     },
     "execution_count": 158,
     "metadata": {},
     "output_type": "execute_result"
    }
   ],
   "source": [
    "df.head()"
   ]
  },
  {
   "cell_type": "code",
   "execution_count": 159,
   "id": "a2457817-d923-4fec-9279-784c3810d3d5",
   "metadata": {},
   "outputs": [
    {
     "data": {
      "text/plain": [
       "location\n",
       "Rural       126.70\n",
       "Suburban    115.49\n",
       "Urban       107.61\n",
       "Name: profit_pct, dtype: float64"
      ]
     },
     "execution_count": 159,
     "metadata": {},
     "output_type": "execute_result"
    }
   ],
   "source": [
    "avg_profit = df.groupby('location')['profit_pct'].mean().round(2)\n",
    "avg_profit"
   ]
  },
  {
   "cell_type": "markdown",
   "id": "88f48e18-0ba8-4119-96ef-d7cd0c736a95",
   "metadata": {},
   "source": [
    "What is the advertising cost of each region as a percentage of total revenue? Using the rank() method, rank each region by the cost of advertising as a percentage of revenue in descending order (add a rank column to the grouped data). Which region has the lowest rank?"
   ]
  },
  {
   "cell_type": "code",
   "execution_count": 160,
   "id": "a4aee79a-a6fd-4099-bfae-608c11da0d46",
   "metadata": {},
   "outputs": [],
   "source": [
    "df2 = df.copy()\n",
    "df2['total_revenue'] = df2['service_revenue'] * df2['number_of_customers']\n",
    "df2['advertising_pct'] = round(df2['advertising_cost'] / df2['total_revenue'] * 100, 2)"
   ]
  },
  {
   "cell_type": "code",
   "execution_count": 163,
   "id": "c744730f-5635-4718-829f-6363633b30e0",
   "metadata": {},
   "outputs": [],
   "source": [
    "df3 = df2.groupby('location')[['advertising_cost','total_revenue']].sum()"
   ]
  },
  {
   "cell_type": "code",
   "execution_count": 180,
   "id": "172cf0ab-e599-47f5-b9b3-0b3323dd8d97",
   "metadata": {},
   "outputs": [],
   "source": [
    "df3['advertising_cost_pct'] = round( df3.advertising_cost / df3.total_revenue * 100, 2 )\n",
    "df3['ranked_advertising_cost'] = df3.advertising_cost_pct.rank().astype(int)\n",
    "df3 = df3.sort_values('ranked_advertising_cost')"
   ]
  },
  {
   "cell_type": "code",
   "execution_count": 181,
   "id": "94143a3e-78c3-4155-8b0d-d45b49147fcd",
   "metadata": {},
   "outputs": [
    {
     "data": {
      "text/html": [
       "<div>\n",
       "<style scoped>\n",
       "    .dataframe tbody tr th:only-of-type {\n",
       "        vertical-align: middle;\n",
       "    }\n",
       "\n",
       "    .dataframe tbody tr th {\n",
       "        vertical-align: top;\n",
       "    }\n",
       "\n",
       "    .dataframe thead th {\n",
       "        text-align: right;\n",
       "    }\n",
       "</style>\n",
       "<table border=\"1\" class=\"dataframe\">\n",
       "  <thead>\n",
       "    <tr style=\"text-align: right;\">\n",
       "      <th></th>\n",
       "      <th>advertising_cost</th>\n",
       "      <th>total_revenue</th>\n",
       "      <th>advertising_cost_pct</th>\n",
       "      <th>ranked_advertising_cost</th>\n",
       "    </tr>\n",
       "    <tr>\n",
       "      <th>location</th>\n",
       "      <th></th>\n",
       "      <th></th>\n",
       "      <th></th>\n",
       "      <th></th>\n",
       "    </tr>\n",
       "  </thead>\n",
       "  <tbody>\n",
       "    <tr>\n",
       "      <th>Suburban</th>\n",
       "      <td>625</td>\n",
       "      <td>20700</td>\n",
       "      <td>3.02</td>\n",
       "      <td>1</td>\n",
       "    </tr>\n",
       "    <tr>\n",
       "      <th>Rural</th>\n",
       "      <td>575</td>\n",
       "      <td>16700</td>\n",
       "      <td>3.44</td>\n",
       "      <td>2</td>\n",
       "    </tr>\n",
       "    <tr>\n",
       "      <th>Urban</th>\n",
       "      <td>750</td>\n",
       "      <td>19500</td>\n",
       "      <td>3.85</td>\n",
       "      <td>3</td>\n",
       "    </tr>\n",
       "  </tbody>\n",
       "</table>\n",
       "</div>"
      ],
      "text/plain": [
       "          advertising_cost  total_revenue  advertising_cost_pct  \\\n",
       "location                                                          \n",
       "Suburban               625          20700                  3.02   \n",
       "Rural                  575          16700                  3.44   \n",
       "Urban                  750          19500                  3.85   \n",
       "\n",
       "          ranked_advertising_cost  \n",
       "location                           \n",
       "Suburban                        1  \n",
       "Rural                           2  \n",
       "Urban                           3  "
      ]
     },
     "execution_count": 181,
     "metadata": {},
     "output_type": "execute_result"
    }
   ],
   "source": [
    "df3"
   ]
  },
  {
   "cell_type": "code",
   "execution_count": null,
   "id": "eac177ae-402e-4306-ae4e-1510ffe84801",
   "metadata": {},
   "outputs": [],
   "source": []
  }
 ],
 "metadata": {
  "kernelspec": {
   "display_name": "Python 3 (ipykernel)",
   "language": "python",
   "name": "python3"
  },
  "language_info": {
   "codemirror_mode": {
    "name": "ipython",
    "version": 3
   },
   "file_extension": ".py",
   "mimetype": "text/x-python",
   "name": "python",
   "nbconvert_exporter": "python",
   "pygments_lexer": "ipython3",
   "version": "3.11.6"
  }
 },
 "nbformat": 4,
 "nbformat_minor": 5
}
